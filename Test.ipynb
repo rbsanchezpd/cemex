{
 "cells": [
  {
   "cell_type": "code",
   "execution_count": 1,
   "id": "b77b0078-3d7e-40d4-bdea-e2392b43bafe",
   "metadata": {},
   "outputs": [
    {
     "data": {
      "text/html": [
       "\n",
       "<h1>🚚 Truck Utilization & Visibility Simulator</h1>\n",
       "<p>This interactive tool estimates truck requirements and utilization based on order data.<br>\n",
       "Upload your Excel file or download the template to begin.</p>\n"
      ],
      "text/plain": [
       "<IPython.core.display.HTML object>"
      ]
     },
     "metadata": {},
     "output_type": "display_data"
    },
    {
     "data": {
      "application/vnd.jupyter.widget-view+json": {
       "model_id": "fd4c6a37bb2e4021abab5a8bafe8fda7",
       "version_major": 2,
       "version_minor": 0
      },
      "text/plain": [
       "VBox(children=(HTML(value='<h3>📦 Step 1: Upload or Download Your Orders Excel File</h3>'), HBox(children=(File…"
      ]
     },
     "metadata": {},
     "output_type": "display_data"
    }
   ],
   "source": [
    "# ==============================================\n",
    "# 🚚 Truck Utilization & Visibility Simulator\n",
    "# ==============================================\n",
    "\n",
    "from IPython.display import display, HTML, FileLink, clear_output\n",
    "import pandas as pd\n",
    "import io\n",
    "import ipywidgets as widgets\n",
    "import matplotlib.pyplot as plt\n",
    "\n",
    "# --- UI Header ---\n",
    "display(HTML(\"\"\"\n",
    "<h1>🚚 Truck Utilization & Visibility Simulator</h1>\n",
    "<p>This interactive tool estimates truck requirements and utilization based on order data.<br>\n",
    "Upload your Excel file or download the template to begin.</p>\n",
    "\"\"\"))\n",
    "\n",
    "# --- File upload and template download widgets ---\n",
    "upload_widget = widgets.FileUpload(accept='.xlsx', multiple=False)\n",
    "download_button = widgets.Button(description=\"📄 Download Excel Template\", button_style=\"info\")\n",
    "continue_button = widgets.Button(description=\"➡️ Continue to Simulation\", button_style=\"success\", disabled=True)\n",
    "output = widgets.Output()\n",
    "\n",
    "# --- Create Excel Template ---\n",
    "def create_template_excel():\n",
    "    data = {\n",
    "        \"Lane\": [\"Example-001\"],\n",
    "        \"Order\": [\"ORD-0001\"],\n",
    "        \"RequestedDeliveryDate\": [\"2025-10-21\"],\n",
    "        \"Origin\": [\"US4819\"],\n",
    "        \"OriginName\": [\"Houston Plant\"],\n",
    "        \"ShipTo\": [\"US9021\"],\n",
    "        \"ShipToName\": [\"Dallas Customer\"],\n",
    "        \"TransitTime(minutes)\": [180],\n",
    "        \"Miles\": [240],\n",
    "        \"LoadingTimeOrigin\": [60],\n",
    "        \"UnloadingTimeDestination\": [45],\n",
    "    }\n",
    "    df_template = pd.DataFrame(data)\n",
    "    df_template.to_excel(\"Orders_Template.xlsx\", index=False)\n",
    "    return \"Orders_Template.xlsx\"\n",
    "\n",
    "def download_template(b):\n",
    "    with output:\n",
    "        clear_output()\n",
    "        path = create_template_excel()\n",
    "        print(\"📥 Template generated successfully:\")\n",
    "        display(FileLink(path))\n",
    "\n",
    "download_button.on_click(download_template)\n",
    "\n",
    "# --- Handle File Upload ---\n",
    "def handle_upload(change):\n",
    "    with output:\n",
    "        clear_output()\n",
    "        uploaded = list(upload_widget.value.values()) if isinstance(upload_widget.value, dict) else upload_widget.value\n",
    "        if not uploaded:\n",
    "            print(\"⚠️ No file uploaded yet.\")\n",
    "            return\n",
    "\n",
    "        fileinfo = uploaded[0]\n",
    "        filename = fileinfo.get(\"metadata\", {}).get(\"name\", fileinfo.get(\"name\", \"uploaded_file.xlsx\"))\n",
    "        print(f\"✅ File '{filename}' uploaded successfully.\")\n",
    "\n",
    "        global df\n",
    "        df = pd.read_excel(io.BytesIO(fileinfo[\"content\"]))\n",
    "        print(f\"📊 Loaded {len(df)} rows and {len(df.columns)} columns.\")\n",
    "        display(df.head())\n",
    "\n",
    "        continue_button.disabled = False\n",
    "\n",
    "upload_widget.observe(handle_upload, names=\"value\")\n",
    "\n",
    "# --- Simulation Function ---\n",
    "def run_simulation(data):\n",
    "    with output:\n",
    "        clear_output()\n",
    "        print(\"🚀 Running truck allocation simulation...\\n\")\n",
    "\n",
    "        data[\"RoundTripMinutes\"] = (\n",
    "            data[\"TransitTime(minutes)\"] * 2\n",
    "            + data[\"LoadingTimeOrigin\"]\n",
    "            + data[\"UnloadingTimeDestination\"]\n",
    "        )\n",
    "\n",
    "        grouped = data.groupby(\"Origin\").agg(\n",
    "            Orders=(\"Order\", \"count\"),\n",
    "            AvgDistance=(\"Miles\", \"mean\"),\n",
    "            AvgRoundTripTime=(\"RoundTripMinutes\", \"mean\")\n",
    "        ).reset_index()\n",
    "\n",
    "        grouped[\"TrucksNeeded\"] = (grouped[\"Orders\"] / 3).apply(lambda x: max(1, round(x)))\n",
    "        grouped[\"AverageTPU\"] = grouped[\"Orders\"] / grouped[\"TrucksNeeded\"]\n",
    "        grouped[\"AverageWorkedHours\"] = grouped[\"AvgRoundTripTime\"] / 60\n",
    "        grouped[\"TruckUtilization(%)\"] = (grouped[\"AverageTPU\"] / 3 * 100).round(1)\n",
    "\n",
    "        print(\"✅ KPI Summary by Origin:\")\n",
    "        display(grouped)\n",
    "\n",
    "        # --- Visualization ---\n",
    "        plt.figure(figsize=(8,4))\n",
    "        plt.bar(grouped[\"Origin\"].astype(str), grouped[\"TruckUtilization(%)\"], color=\"skyblue\")\n",
    "        plt.title(\"Average Truck Utilization by Origin\")\n",
    "        plt.xlabel(\"Origin\")\n",
    "        plt.ylabel(\"Utilization (%)\")b\n",
    "\n",
    "# --- Connect Continue Button ---\n",
    "def run_next_step(b):\n",
    "    run_simulation(df)\n",
    "\n",
    "continue_button.on_click(run_next_step)\n",
    "\n",
    "# --- Display UI ---\n",
    "display(widgets.VBox([\n",
    "    widgets.HTML(\"<h3>📦 Step 1: Upload or Download Your Orders Excel File</h3>\"),\n",
    "    widgets.HBox([upload_widget, download_button]),\n",
    "    output,\n",
    "    continue_button\n",
    "]))\n"
   ]
  },
  {
   "cell_type": "code",
   "execution_count": 2,
   "id": "dd846650-4196-43e0-8c92-09ff71ef32b1",
   "metadata": {},
   "outputs": [
    {
     "name": "stdout",
     "output_type": "stream",
     "text": [
      "✅ requirements.txt created successfully.\n"
     ]
    }
   ],
   "source": [
    "with open(\"requirements.txt\", \"w\") as f:\n",
    "    f.write(\"voila\\nipywidgets\\npandas\\nmatplotlib\\nopenpyxl\\n\")\n",
    "print(\"✅ requirements.txt created successfully.\")\n"
   ]
  },
  {
   "cell_type": "markdown",
   "id": "45ba246c-ef99-4eeb-8b25-64cc4db92df2",
   "metadata": {},
   "source": [
    "# 🚚 Truck Utilization & Visibility Simulator\n",
    "\n",
    "An interactive Voila dashboard that calculates truck requirements, utilization, and KPIs\n",
    "based on your Excel order data.\n",
    "\n",
    "### How to Run\n",
    "\n",
    "Click below to launch the app (no installation needed):\n",
    "\n",
    "👉 [Launch in Binder](https://mybinder.org/v2/gh/rbsanchezpd/cemex/HEAD?urlpath=voila/render/TruckSimulator.ipynb)\n"
   ]
  },
  {
   "cell_type": "code",
   "execution_count": 5,
   "id": "8d582d34-1c54-4a38-891d-644a115f9da0",
   "metadata": {},
   "outputs": [
    {
     "ename": "SyntaxError",
     "evalue": "invalid syntax (2670742281.py, line 1)",
     "output_type": "error",
     "traceback": [
      "\u001b[1;36m  Cell \u001b[1;32mIn[5], line 1\u001b[1;36m\u001b[0m\n\u001b[1;33m    git add TruckSimulator.ipynb requirements.txt README.md\u001b[0m\n\u001b[1;37m        ^\u001b[0m\n\u001b[1;31mSyntaxError\u001b[0m\u001b[1;31m:\u001b[0m invalid syntax\n"
     ]
    }
   ],
   "source": [
    "git add TruckSimulator.ipynb requirements.txt README.md\n",
    "git commit -m \"Add Voila truck utilization dashboard\"\n",
    "git push origin main"
   ]
  }
 ],
 "metadata": {
  "kernelspec": {
   "display_name": "Python 3 (ipykernel)",
   "language": "python",
   "name": "python3"
  },
  "language_info": {
   "codemirror_mode": {
    "name": "ipython",
    "version": 3
   },
   "file_extension": ".py",
   "mimetype": "text/x-python",
   "name": "python",
   "nbconvert_exporter": "python",
   "pygments_lexer": "ipython3",
   "version": "3.13.5"
  }
 },
 "nbformat": 4,
 "nbformat_minor": 5
}
